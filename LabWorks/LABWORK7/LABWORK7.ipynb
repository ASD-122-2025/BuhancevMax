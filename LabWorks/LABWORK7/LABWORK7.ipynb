{
 "cells": [
  {
   "cell_type": "markdown",
   "id": "d52750df-3a25-4067-ac7a-c5f40b7d8328",
   "metadata": {},
   "source": [
    "### Лабораторна робота №7\n",
    "### Тема: Структури даних: дерево, купа, геш-таблиця\n",
    "### Виконав: Буханцев Максим"
   ]
  },
  {
   "cell_type": "markdown",
   "id": "78985953-8096-4c12-9da5-9162ff407f83",
   "metadata": {},
   "source": [
    "## Створення купи, додавання елементу та видалення максимального елементу"
   ]
  },
  {
   "cell_type": "code",
   "execution_count": null,
   "id": "76fe899a-0a24-4da3-93c8-46e914a33b5c",
   "metadata": {},
   "outputs": [],
   "source": [
    "import heapq\n",
    "import random\n",
    "\n",
    "arr = [random.randint(1, 100) for _ in range(10)]\n",
    "print(\"Початковий масив:\", arr)\n",
    "\n",
    "heap = arr[:]\n",
    "heapq._heapify_max(heap)  \n",
    "print(\"Купа:\", heap)\n",
    "\n",
    "heap.append(4)\n",
    "heapq._heapify_max(heap)\n",
    "\n",
    "max_elem = heap[0]\n",
    "heap[0] = heap[-1]\n",
    "heap.pop()\n",
    "heapq._heapify_max(heap)\n",
    "print(heap)"
   ]
  },
  {
   "cell_type": "markdown",
   "id": "051deaa0-f1a5-4f01-a6ab-b6b33d0a4b71",
   "metadata": {},
   "source": [
    "### Оцінка складності:\n",
    "- `search`: O(n)\n",
    "- `insert`: O(log n)\n",
    "- `delete`: O(log n)"
   ]
  },
  {
   "cell_type": "markdown",
   "id": "86e339cd-43e9-4337-8271-bc2a23ad9541",
   "metadata": {},
   "source": [
    "## Створення бінарного дерева"
   ]
  },
  {
   "cell_type": "code",
   "execution_count": null,
   "id": "c2f8f2a6-1d97-4201-990c-ae55dfd7bdb4",
   "metadata": {},
   "outputs": [],
   "source": [
    "class Node:\n",
    "    def __init__(self, key):\n",
    "        self.left = None\n",
    "        self.right = None\n",
    "        self.val = key\n",
    "\n",
    "def insert(root, key):\n",
    "    if root is None:\n",
    "        return Node(key)\n",
    "    if key < root.val:\n",
    "        root.left = insert(root.left, key)\n",
    "    else:\n",
    "        root.right = insert(root.right, key)\n",
    "    return root\n",
    "\n",
    "def inorder(root):\n",
    "    if root:\n",
    "        inorder(root.left)\n",
    "        print(root.val, end=' ')\n",
    "        inorder(root.right)\n",
    "\n",
    "def delete_branch(root, key):\n",
    "    if root is None:\n",
    "        return None\n",
    "    if root.val == key:\n",
    "        return None\n",
    "    root.left = delete_branch(root.left, key)\n",
    "    root.right = delete_branch(root.right, key)\n",
    "    return root\n",
    "\n",
    "# Створення дерева\n",
    "values = [50, 30, 70, 20, 40, 60, 80]\n",
    "root = None\n",
    "for val in values:\n",
    "    root = insert(root, val)\n",
    "\n",
    "print(\"Дерево (in-order):\")\n",
    "inorder(root)\n",
    "\n",
    "# Видалення гілки з ключем 30\n",
    "root = delete_branch(root, 30)\n",
    "print(\"\\nПісля видалення гілки з ключем 30:\")\n",
    "inorder(root)"
   ]
  },
  {
   "cell_type": "markdown",
   "id": "b4a1fbb6-a4f4-413c-867b-c78dde6e5ff1",
   "metadata": {},
   "source": [
    "### Оцінка складності:\n",
    "- `search`: O(log n) в середньому, O(n) у найгіршому\n",
    "- `insert`: O(log n) в середньому, O(n) у найгіршому\n",
    "- `delete`: O(log n) в середньому, O(n) у найгіршому"
   ]
  },
  {
   "cell_type": "markdown",
   "id": "c5d2586c-7106-4af5-8af7-5633284ff6e8",
   "metadata": {},
   "source": [
    "## Геш-таблиця"
   ]
  },
  {
   "cell_type": "code",
   "execution_count": null,
   "id": "955d17d3-dca7-468e-8618-72beee8f278b",
   "metadata": {},
   "outputs": [],
   "source": [
    "import time\n",
    "\n",
    "class HashTable:\n",
    "    def __init__(self, size):\n",
    "        self.size = size\n",
    "        self.table = [[] for _ in range(size)]\n",
    "\n",
    "    def _hash(self, key):\n",
    "        return hash(key) % self.size\n",
    "\n",
    "    def insert(self, key, value):\n",
    "        idx = self._hash(key)\n",
    "        for kv in self.table[idx]:\n",
    "            if kv[0] == key:\n",
    "                kv[1] = value\n",
    "                return\n",
    "        self.table[idx].append([key, value])\n",
    "\n",
    "    def search(self, key):\n",
    "        idx = self._hash(key)\n",
    "        for kv in self.table[idx]:\n",
    "            if kv[0] == key:\n",
    "                return kv[1]\n",
    "        return None\n",
    "\n",
    "    def delete(self, key):\n",
    "        idx = self._hash(key)\n",
    "        for i, kv in enumerate(self.table[idx]):\n",
    "            if kv[0] == key:\n",
    "                del self.table[idx][i]\n",
    "                return\n",
    "\n",
    "    def display(self):\n",
    "        for i, bucket in enumerate(self.table):\n",
    "            print(f\"{i}: {bucket}\")\n",
    "\n",
    "# Тестування\n",
    "ht = HashTable(10)\n",
    "\n",
    "# Вставка\n",
    "types = [123, \"key\", (1,2), frozenset([1]), 3.14]\n",
    "for t in types:\n",
    "    ht.insert(t, f\"value_{t}\")\n",
    "\n",
    "ht.display()\n",
    "\n",
    "for t in types:\n",
    "    start = time.time()\n",
    "    result = ht.search(t)\n",
    "    duration = (time.time() - start)*1000\n",
    "    print(f\"Пошук ключа {t}: {result} (час: {duration:.3f} мс)\")\n",
    "\n",
    "for t in types:\n",
    "    start = time.time()\n",
    "    ht.delete(t)\n",
    "    duration = (time.time() - start)*1000\n",
    "    print(f\"Видалення ключа {t} (час: {duration:.3f} мс)\")"
   ]
  },
  {
   "cell_type": "markdown",
   "id": "98494c06-0792-4dda-a943-12856867332f",
   "metadata": {},
   "source": [
    "## Контрольні питання"
   ]
  },
  {
   "cell_type": "markdown",
   "id": "9d941aa0-4e20-4cce-ae21-246948a778a0",
   "metadata": {},
   "source": [
    "1. **Чим відрізняється структура бінарне дерево він бінарного дерева \n",
    "пошуку?**\n",
    "- Бінарне дерево — це будь-яке дерево, в якого кожен вузол має не більше двох нащадків. Бінарне дерево пошуку — це впорядковане бінарне дерево, де лівий нащадок менший за батька, а правий — більший або рівний.\n",
    "2. **Чим відрізняється структура бінарне дерево від бінарної купи?**\n",
    "- Бінарне дерево не має конкретного порядку між вузлами, а бінарна купа — це повне дерево, в якому кожен батьківський вузол більший (максимальна купа) або менший (мінімальна купа) за своїх дітей.\n",
    "3. **Які існують типи дерев? Опишіть їхні основні характеристики та \n",
    "переваги.**\n",
    "- бінарні дерева, AVL-дерева, B-дерева, Trie, тощо.\n",
    "4. **Наведіть приклади задач, які ефективно вирішуються за допомогою \n",
    "дерев.**\n",
    "- Пошук у впорядкованих даних, автодоповнення (Trie)\n",
    "5. **Як організована купа? Опишіть алгоритми додавання та вилучення \n",
    "елементів з купи.**\n",
    "- Купа зберігається як бінарне дерево.\n",
    "- Додавання: вставка в кінець + підняття;\n",
    "- Видалення: заміна кореня останнім елементом + просіювання вниз\n",
    "6. **Які задачі можна ефективно вирішити за допомогою купи? Наведіть \n",
    "приклади.**\n",
    "- Купа ефективна для задач з пріоритетами: планування процесів, алгоритм Дейкстри і тд.\n",
    "7. **Як геш-функція використовується для зберігання та пошуку даних в \n",
    "хеш-таблиці?**\n",
    "- Геш-функція обчислює індекс масиву на основі ключа, що дозволяє швидко зберігати та знаходити дані у хеш-таблиці з майже постійним часом доступу.\n",
    "8. **Опишіть методи вирішення колізій в хеш-таблицях. Які їхні переваги \n",
    "та недоліки?**\n",
    "- відкрита адресація (лінійне, квадратичне пробування), ланцюжки\n"
   ]
  }
 ],
 "metadata": {
  "kernelspec": {
   "display_name": "Python [conda env:base] *",
   "language": "python",
   "name": "conda-base-py"
  },
  "language_info": {
   "codemirror_mode": {
    "name": "ipython",
    "version": 3
   },
   "file_extension": ".py",
   "mimetype": "text/x-python",
   "name": "python",
   "nbconvert_exporter": "python",
   "pygments_lexer": "ipython3",
   "version": "3.12.7"
  }
 },
 "nbformat": 4,
 "nbformat_minor": 5
}

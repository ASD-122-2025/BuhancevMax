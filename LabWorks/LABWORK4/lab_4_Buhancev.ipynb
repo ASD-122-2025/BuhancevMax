{
 "cells": [
  {
   "cell_type": "markdown",
   "id": "259b61eb-9c94-43b6-8ce8-70580abd86bf",
   "metadata": {},
   "source": [
    "### Лабораторна робота №4\n",
    "#### Виконав: Буханцев М."
   ]
  },
  {
   "cell_type": "markdown",
   "id": "93a892b1-67ef-4c57-88e8-60a78138fe86",
   "metadata": {},
   "source": [
    "# Рекурсія. Стратегія «розділяй і володарюй»"
   ]
  },
  {
   "cell_type": "markdown",
   "id": "009b35ea-87bd-43ac-ae7c-1be1f7a99d0e",
   "metadata": {},
   "source": [
    "## Завдання для самостійної роботи"
   ]
  },
  {
   "cell_type": "markdown",
   "id": "c4135b21-c4df-408e-88db-50666ca12b10",
   "metadata": {},
   "source": [
    "### Реалізувати факторіал за допомогою циклу for"
   ]
  },
  {
   "cell_type": "code",
   "execution_count": null,
   "id": "c2acdf71-c6d3-4fbf-8f3c-d2ac7199f762",
   "metadata": {},
   "outputs": [],
   "source": [
    "def factorial_iterative(n):\n",
    "    result = 1\n",
    "    for i in range(2, n + 1):\n",
    "        result *= i\n",
    "    return result"
   ]
  },
  {
   "cell_type": "markdown",
   "id": "8fd77e4d-4cdd-42a5-9dda-dad8d36d6cb3",
   "metadata": {},
   "source": [
    "Асимптотична складність: O(n) — одна ітерація на кожне число до n."
   ]
  },
  {
   "cell_type": "markdown",
   "id": "c672e602-0b12-4f44-a9a6-145ff7e00ebf",
   "metadata": {},
   "source": [
    "### Рекурсивний факторіал"
   ]
  },
  {
   "cell_type": "code",
   "execution_count": null,
   "id": "67b5302f-88f7-4949-b9d7-1cdeb508d034",
   "metadata": {},
   "outputs": [],
   "source": [
    "def factorial_recursive(n):\n",
    "    if n == 0 or n == 1:\n",
    "        return 1\n",
    "    return n * factorial_recursive(n - 1)"
   ]
  },
  {
   "cell_type": "markdown",
   "id": "14cc54cb-61b1-4b73-a69c-58ff73257bd8",
   "metadata": {},
   "source": [
    "Асимптотична складність: O(n) — один рекурсивний виклик на кожне число до 1."
   ]
  },
  {
   "cell_type": "markdown",
   "id": "b7c4a88e-6b5f-4365-a3b8-6a8eac6af436",
   "metadata": {},
   "source": [
    "### Рекурсивне обчислення n-го числа Фібоначчі"
   ]
  },
  {
   "cell_type": "code",
   "execution_count": null,
   "id": "5a9875e7-c880-49f4-8cac-74962e6eb156",
   "metadata": {},
   "outputs": [],
   "source": [
    "def fibonacci_recursive(n):\n",
    "    if n <= 1:\n",
    "        return n\n",
    "    return fibonacci_recursive(n - 1) + fibonacci_recursive(n - 2)"
   ]
  },
  {
   "cell_type": "code",
   "execution_count": null,
   "id": "fc7b2bb0-fb30-4bf8-8a44-9ec842dbc7ff",
   "metadata": {},
   "outputs": [],
   "source": [
    "Асимптотична складність: O(2^n) — дерево викликів експоненційне."
   ]
  },
  {
   "cell_type": "markdown",
   "id": "e1f4dc22-13f2-4238-870f-2e53f546e0c6",
   "metadata": {},
   "source": [
    "### Сортування злиттям"
   ]
  },
  {
   "cell_type": "code",
   "execution_count": null,
   "id": "51db6893-0d7a-4e5a-b764-2dc798329562",
   "metadata": {},
   "outputs": [],
   "source": [
    "def merge_sort(arr):\n",
    "    if len(arr) <= 1:\n",
    "        return arr\n",
    "\n",
    "    mid = len(arr) \n",
    "    left = merge_sort(arr[:mid])\n",
    "    right = merge_sort(arr[mid:])\n",
    "\n",
    "    return merge(left, right)\n",
    "\n",
    "def merge(left, right):\n",
    "    result = []\n",
    "    i = j = 0\n",
    "\n",
    "    while i < len(left) and j < len(right):\n",
    "        if left[i] < right[j]:\n",
    "            result.append(left[i])\n",
    "            i += 1\n",
    "        else:\n",
    "            result.append(right[j])\n",
    "            j += 1\n",
    "\n",
    "    result.extend(left[i:])\n",
    "    result.extend(right[j:])\n",
    "    return result"
   ]
  },
  {
   "cell_type": "markdown",
   "id": "7aecf0f7-b888-456b-afa4-006510d42ede",
   "metadata": {},
   "source": [
    "## Контрольні запитання "
   ]
  },
  {
   "cell_type": "markdown",
   "id": "d831e7ce-9bef-405b-806b-24a3083e3f04",
   "metadata": {},
   "source": [
    "1. **Надати визначення складності задачі із символом Ω.**  \n",
    "   **Відповідь:** Це найгірша межа знизу для алгоритму. Алгоритм завжди виконується не повільніше, ніж визначено функцією Ω.\n",
    "\n",
    "2. **Функція часової складності має вигляд: F(N) = N^3 + 7N^2 - 14N. Як записати асимптотичну складність у O-нотації?**  \n",
    "   **Відповідь:** O(𝑁³)\n",
    "\n",
    "3. **Функція часової складності має вигляд: F(N) = 1.01N + N^{10}. Як записати асимптотичну складність у O-нотації?**  \n",
    "   **Відповідь:** O(𝑁¹⁰)\n",
    "\n",
    "4. **Функція часової складності має вигляд: F(N) = N^{1.3} + 10 \\log_2 N. Як записати асимптотичну складність у O-нотації?**  \n",
    "   **Відповідь:** O(𝑁¹.³)\n",
    "\n",
    "5. **У чому полягає ідея розпаралелювання обчислень і для чого вона використовується?**  \n",
    "   **Відповідь:** Розділення задачі на підзадачі, які виконуються одночасно. Merge sort дозволяє розпаралелювання.\n",
    "\n",
    "6. **Які існують способи підвищення обчислювальної швидкості алгоритмів?**  \n",
    "   **Відповідь:** Використання ефективніших алгоритмів, розпаралелювання, кешування. Найефективніше — оптимальний алгоритм.\n"
   ]
  }
 ],
 "metadata": {
  "kernelspec": {
   "display_name": "Python [conda env:base] *",
   "language": "python",
   "name": "conda-base-py"
  },
  "language_info": {
   "codemirror_mode": {
    "name": "ipython",
    "version": 3
   },
   "file_extension": ".py",
   "mimetype": "text/x-python",
   "name": "python",
   "nbconvert_exporter": "python",
   "pygments_lexer": "ipython3",
   "version": "3.12.7"
  }
 },
 "nbformat": 4,
 "nbformat_minor": 5
}

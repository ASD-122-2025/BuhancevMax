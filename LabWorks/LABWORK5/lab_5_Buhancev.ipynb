{
 "cells": [
  {
   "cell_type": "markdown",
   "id": "lab5-title",
   "metadata": {},
   "source": [
    "### Лабораторна робота №5\n",
    "#### Тема: Алгоритми пошуку\n",
    "#### Виконав: Буханцев М."
   ]
  },
  {
   "cell_type": "markdown",
   "id": "setup-env",
   "metadata": {},
   "source": [
    "## 1. Налаштування оточення"
   ]
  },
  {
   "cell_type": "code",
   "execution_count": 3,
   "id": "setup-code",
   "metadata": {},
   "outputs": [],
   "source": [
    "import time\n",
    "import numpy as np\n",
    "import pandas as pd\n",
    "import matplotlib.pyplot as plt\n",
    "%matplotlib inline"
   ]
  },
  {
   "cell_type": "markdown",
   "id": "task1",
   "metadata": {},
   "source": [
    "## Завдання для самостійної роботи:\n",
    "### 1. Оцінити асимптотичну складність алгоритму бінарного пошуку в O-нотації."
   ]
  },
  {
   "cell_type": "markdown",
   "id": "task1-answer",
   "metadata": {},
   "source": [
    "**O(log n)** — бо кожен крок ділить масив навпіл."
   ]
  },
  {
   "cell_type": "markdown",
   "id": "task2",
   "metadata": {},
   "source": [
    "### 2. Написати функцію, яка повертає DataFrame для linear_search()"
   ]
  },
  {
   "cell_type": "code",
   "execution_count": 7,
   "id": "linear-func",
   "metadata": {},
   "outputs": [
    {
     "data": {
      "text/html": [
       "<div>\n",
       "<style scoped>\n",
       "    .dataframe tbody tr th:only-of-type {\n",
       "        vertical-align: middle;\n",
       "    }\n",
       "\n",
       "    .dataframe tbody tr th {\n",
       "        vertical-align: top;\n",
       "    }\n",
       "\n",
       "    .dataframe thead th {\n",
       "        text-align: right;\n",
       "    }\n",
       "</style>\n",
       "<table border=\"1\" class=\"dataframe\">\n",
       "  <thead>\n",
       "    <tr style=\"text-align: right;\">\n",
       "      <th></th>\n",
       "      <th>n</th>\n",
       "      <th>time</th>\n",
       "    </tr>\n",
       "  </thead>\n",
       "  <tbody>\n",
       "    <tr>\n",
       "      <th>0</th>\n",
       "      <td>100</td>\n",
       "      <td>0.0</td>\n",
       "    </tr>\n",
       "    <tr>\n",
       "      <th>1</th>\n",
       "      <td>300</td>\n",
       "      <td>0.0</td>\n",
       "    </tr>\n",
       "    <tr>\n",
       "      <th>2</th>\n",
       "      <td>500</td>\n",
       "      <td>0.0</td>\n",
       "    </tr>\n",
       "    <tr>\n",
       "      <th>3</th>\n",
       "      <td>700</td>\n",
       "      <td>0.0</td>\n",
       "    </tr>\n",
       "    <tr>\n",
       "      <th>4</th>\n",
       "      <td>900</td>\n",
       "      <td>0.0</td>\n",
       "    </tr>\n",
       "  </tbody>\n",
       "</table>\n",
       "</div>"
      ],
      "text/plain": [
       "     n  time\n",
       "0  100   0.0\n",
       "1  300   0.0\n",
       "2  500   0.0\n",
       "3  700   0.0\n",
       "4  900   0.0"
      ]
     },
     "execution_count": 7,
     "metadata": {},
     "output_type": "execute_result"
    }
   ],
   "source": [
    "def linear_search(arr, target):\n",
    "    for i in range(len(arr)):\n",
    "        if arr[i] == target:\n",
    "            return i\n",
    "    return -1\n",
    "\n",
    "def test_linear():\n",
    "    results = []\n",
    "    for n in range(100, 2001, 200):\n",
    "        arr = np.arange(n)\n",
    "        start = time.time()\n",
    "        linear_search(arr, -1)\n",
    "        end = time.time()\n",
    "        results.append((n, end - start))\n",
    "    return pd.DataFrame(results, columns=[\"n\", \"time\"])\n",
    "\n",
    "df_linear = test_linear()\n",
    "df_linear.head()"
   ]
  },
  {
   "cell_type": "markdown",
   "id": "task3",
   "metadata": {},
   "source": [
    "### 3. Написати функцію, яка повертає DataFrame для bin_search()"
   ]
  },
  {
   "cell_type": "code",
   "execution_count": 9,
   "id": "bin-func",
   "metadata": {},
   "outputs": [
    {
     "data": {
      "text/html": [
       "<div>\n",
       "<style scoped>\n",
       "    .dataframe tbody tr th:only-of-type {\n",
       "        vertical-align: middle;\n",
       "    }\n",
       "\n",
       "    .dataframe tbody tr th {\n",
       "        vertical-align: top;\n",
       "    }\n",
       "\n",
       "    .dataframe thead th {\n",
       "        text-align: right;\n",
       "    }\n",
       "</style>\n",
       "<table border=\"1\" class=\"dataframe\">\n",
       "  <thead>\n",
       "    <tr style=\"text-align: right;\">\n",
       "      <th></th>\n",
       "      <th>n</th>\n",
       "      <th>time</th>\n",
       "    </tr>\n",
       "  </thead>\n",
       "  <tbody>\n",
       "    <tr>\n",
       "      <th>0</th>\n",
       "      <td>100</td>\n",
       "      <td>0.0</td>\n",
       "    </tr>\n",
       "    <tr>\n",
       "      <th>1</th>\n",
       "      <td>300</td>\n",
       "      <td>0.0</td>\n",
       "    </tr>\n",
       "    <tr>\n",
       "      <th>2</th>\n",
       "      <td>500</td>\n",
       "      <td>0.0</td>\n",
       "    </tr>\n",
       "    <tr>\n",
       "      <th>3</th>\n",
       "      <td>700</td>\n",
       "      <td>0.0</td>\n",
       "    </tr>\n",
       "    <tr>\n",
       "      <th>4</th>\n",
       "      <td>900</td>\n",
       "      <td>0.0</td>\n",
       "    </tr>\n",
       "  </tbody>\n",
       "</table>\n",
       "</div>"
      ],
      "text/plain": [
       "     n  time\n",
       "0  100   0.0\n",
       "1  300   0.0\n",
       "2  500   0.0\n",
       "3  700   0.0\n",
       "4  900   0.0"
      ]
     },
     "execution_count": 9,
     "metadata": {},
     "output_type": "execute_result"
    }
   ],
   "source": [
    "def binary_search(arr, target):\n",
    "    low, high = 0, len(arr) - 1\n",
    "    while low <= high:\n",
    "        mid = (low + high) // 2\n",
    "        if arr[mid] == target:\n",
    "            return mid\n",
    "        elif arr[mid] < target:\n",
    "            low = mid + 1\n",
    "        else:\n",
    "            high = mid - 1\n",
    "    return -1\n",
    "\n",
    "def test_binary():\n",
    "    results = []\n",
    "    for n in range(100, 2001, 200):\n",
    "        arr = np.arange(n)\n",
    "        start = time.time()\n",
    "        binary_search(arr, -1)\n",
    "        end = time.time()\n",
    "        results.append((n, end - start))\n",
    "    return pd.DataFrame(results, columns=[\"n\", \"time\"])\n",
    "\n",
    "df_binary = test_binary()\n",
    "df_binary.head()"
   ]
  },
  {
   "cell_type": "markdown",
   "id": "task4",
   "metadata": {},
   "source": [
    "### 4. Побудувати графіки залежності часу від розміру масиву"
   ]
  },
  {
   "cell_type": "code",
   "execution_count": 11,
   "id": "plot-graph",
   "metadata": {},
   "outputs": [
    {
     "data": {
      "image/png": "[encoded data removed]",
      "text/plain": [
       "<Figure size 640x480 with 1 Axes>"
      ]
     },
     "metadata": {},
     "output_type": "display_data"
    }
   ],
   "source": [
    "plt.plot(df_linear['n'], df_linear['time'], label='Linear Search')\n",
    "plt.plot(df_binary['n'], df_binary['time'], label='Binary Search')\n",
    "plt.xlabel('Розмір масиву')\n",
    "plt.ylabel('Час виконання (сек)')\n",
    "plt.title('Порівняння лінійного та бінарного пошуку')\n",
    "plt.legend()\n",
    "plt.grid(True)\n",
    "plt.show()"
   ]
  },
  {
   "cell_type": "markdown",
   "id": "task5",
   "metadata": {},
   "source": [
    "### 5. Оцінити ефективність алгоритмів\n",
    "**Бінарний пошук** працює значно швидше при великих розмірах масиву, але вимагає **відсортованих даних**.\n",
    "**Лінійний пошук** повільніший, але працює з будь-якими даними.\n",
    "**Ефективніший** — бінарний для `n > 1000` і більше."
   ]
  },
  {
   "cell_type": "markdown",
   "id": "questions",
   "metadata": {},
   "source": [
    "## Контрольні питання"
   ]
  },
  {
   "cell_type": "markdown",
   "id": "q1",
   "metadata": {},
   "source": [
    "1. **Сформулювати задачу пошуку**:\n",
    "- Знайти позицію елемента у структурі даних (масив, список тощо)."
   ]
  },
  {
   "cell_type": "markdown",
   "id": "q2",
   "metadata": {},
   "source": [
    "2. **Які критерії можна використовувати для оцінювання ефективності \n",
    "алгоритмів пошуку?**:\n",
    "- Асимптотична складність, час виконання, вимоги до памʼяті."
   ]
  },
  {
   "cell_type": "markdown",
   "id": "q3",
   "metadata": {},
   "source": [
    "4. **Що таке лінійний пошук і яка його асимптотична складність?**:\n",
    "- Перевіряє кожен елемент. Складність: **O(n)**"
   ]
  },
  {
   "cell_type": "markdown",
   "id": "q4",
   "metadata": {},
   "source": [
    "5. **Що таке бінарний (двійковий) пошук і в чому полягає його головний \n",
    "принцип роботи?**:\n",
    "- Розділяє масив навпіл на кожному кроці. Складність: **O(log n)**"
   ]
  },
  {
   "cell_type": "markdown",
   "id": "q5",
   "metadata": {},
   "source": [
    "6. **Які переваги і недоліки використання бінарного пошуку порівняно з \n",
    "лінійним?**:\n",
    "- Переваги: швидкий, логарифмічний час. Недоліки: працює лише з **відсортованими** даними."
   ]
  },
  {
   "cell_type": "markdown",
   "id": "q6",
   "metadata": {},
   "source": [
    "7. **Які ще алгоритми пошуку існують, окрім лінійного і бінарного?**:\n",
    "- Інтерполяційний пошук, експоненційний пошук, хеш-пошук, пошук у дереві."
   ]
  }
 ],
 "metadata": {
  "kernelspec": {
   "display_name": "Python [conda env:base] *",
   "language": "python",
   "name": "conda-base-py"
  },
  "language_info": {
   "codemirror_mode": {
    "name": "ipython",
    "version": 3
   },
   "file_extension": ".py",
   "mimetype": "text/x-python",
   "name": "python",
   "nbconvert_exporter": "python",
   "pygments_lexer": "ipython3",
   "version": "3.12.7"
  }
 },
 "nbformat": 4,
 "nbformat_minor": 5
}

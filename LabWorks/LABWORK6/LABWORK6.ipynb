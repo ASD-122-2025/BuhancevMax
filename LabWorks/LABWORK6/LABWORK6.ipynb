{
 "cells": [
  {
   "cell_type": "markdown",
   "id": "6601947f",
   "metadata": {},
   "source": [
    "### Лабороторна робота №6.  Структури даних стек і черга\n",
    "### Виконав: Буханцев Максим"
   ]
  },
  {
   "cell_type": "markdown",
   "id": "8fcbf68d",
   "metadata": {},
   "source": [
    "### Завдання 1. Функція `print_n()`"
   ]
  },
  {
   "cell_type": "code",
   "execution_count": null,
   "id": "312cdf19",
   "metadata": {},
   "outputs": [],
   "source": [
    "from collections import deque\n",
    "\n",
    "def print_n(queue, n):\n",
    "    for i in range(min(n + 1, len(queue))):\n",
    "        print(queue[i])\n",
    "\n",
    "q = deque([10, 20, 30, 40, 50])\n",
    "print_n(q, 3)\n"
   ]
  },
  {
   "cell_type": "markdown",
   "id": "cf7bafd3",
   "metadata": {},
   "source": [
    "## Завдання 2. Оцінка асимптотичної складності процедур черги"
   ]
  },
  {
   "cell_type": "markdown",
   "id": "532b2c60",
   "metadata": {},
   "source": [
    "Оцінка складності для черги:\n",
    "\n",
    "`search` середній та найгірший випадок — **O(n)** (треба пройти всі елементи).\n",
    "\n",
    "`insert` — **O(1)** в середньому випадку, **O(n)** в гіршому .\n",
    "\n",
    "`delete` — **O(1)**, якщо черга реалізована як двостороння (deque).\n"
   ]
  },
  {
   "cell_type": "markdown",
   "id": "5f09d880",
   "metadata": {},
   "source": [
    "## Відповіді на контрольні питання"
   ]
  },
  {
   "cell_type": "markdown",
   "id": "9d268dff",
   "metadata": {},
   "source": [
    "1. Що таке стек і які операції можна виконувати зі стеком?\n",
    "\n",
    "**Відповідь:** Стек — це структура даних, що працює за принципом LIFO. Операції: push, pop, peek, isEmpty, size."
   ]
  },
  {
   "cell_type": "markdown",
   "id": "236a5dda",
   "metadata": {},
   "source": [
    "2. Яка основна відмінність між стеком та чергою?\n",
    "\n",
    "**Відповідь:** У стеку елементи видаляються в зворотному порядку (LIFO), а в черзі — в прямому (FIFO)."
   ]
  },
  {
   "cell_type": "markdown",
   "id": "90b9ff56",
   "metadata": {},
   "source": [
    "3. Як ви можете реалізувати стек за допомогою масиву і за допомогою зв’язаного списку? Які переваги та недоліки кожного підходу?\n",
    "\n",
    "**Відповідь:** Масив: швидкий доступ до елементів, але обмежена динаміка розміру. Зв’язаний список: гнучкий розмір, але повільніший доступ та більша витрата пам’яті."
   ]
  },
  {
   "cell_type": "markdown",
   "id": "036948c9",
   "metadata": {},
   "source": [
    "4. Які є застосування стека та черги в програмуванні і реальному житті?\n",
    "\n",
    "**Відповідь:** Стек: обробка викликів функцій. Черга: обробка запитів, друк документів."
   ]
  }
 ],
 "metadata": {
  "kernelspec": {
   "display_name": "Python [conda env:base] *",
   "language": "python",
   "name": "conda-base-py"
  },
  "language_info": {
   "codemirror_mode": {
    "name": "ipython",
    "version": 3
   },
   "file_extension": ".py",
   "mimetype": "text/x-python",
   "name": "python",
   "nbconvert_exporter": "python",
   "pygments_lexer": "ipython3",
   "version": "3.12.7"
  }
 },
 "nbformat": 4,
 "nbformat_minor": 5
}

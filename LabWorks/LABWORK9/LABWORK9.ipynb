{
 "cells": [
  {
   "cell_type": "markdown",
   "id": "32303a36-920e-4ff9-8cf4-407fea3cc530",
   "metadata": {},
   "source": [
    "## Лабораторна робота №9 Алгоритми на рядках\n",
    "## Виконав: Буханцев Максим"
   ]
  },
  {
   "cell_type": "markdown",
   "id": "9510f60f-fd21-4671-b220-51f323a9ab20",
   "metadata": {},
   "source": [
    "## 1. Повторити код, наведений в лабораторній роботі для довільних рядків."
   ]
  },
  {
   "cell_type": "markdown",
   "id": "5dc059e6-5243-46f8-9c57-437856f0e2df",
   "metadata": {},
   "source": [
    "### 1.1  Реалізація наївного алгоритму пошуку підрядка"
   ]
  },
  {
   "cell_type": "code",
   "execution_count": 13,
   "id": "df507784-56a1-4a3d-96be-bd3ede877778",
   "metadata": {},
   "outputs": [
    {
     "name": "stdout",
     "output_type": "stream",
     "text": [
      "[0, 2]\n"
     ]
    }
   ],
   "source": [
    "def naive_match(p, t):\n",
    "    assert len(p) <= len(t), \"Шаблон не може бути довшим за текст.\"\n",
    "    occurrences = []\n",
    "    for i in range(0, len(t) - len(p) + 1):  \n",
    "        match = True\n",
    "        for j in range(0, len(p)): \n",
    "            if t[i + j] != p[j]:\n",
    "                match = False\n",
    "                break\n",
    "        if match:\n",
    "            occurrences.append(i)\n",
    "    return occurrences\n",
    "\n",
    "t = \"абабагаламага\"\n",
    "p = \"аб\"\n",
    "print(naive_match(p, t))  "
   ]
  },
  {
   "cell_type": "markdown",
   "id": "d683001c-8c9f-4b75-8563-6ab897cebc05",
   "metadata": {},
   "source": [
    "### 1.2 Реалізація Z-функції"
   ]
  },
  {
   "cell_type": "code",
   "execution_count": 15,
   "id": "8237f439-895c-498c-ba16-83a3264c5262",
   "metadata": {},
   "outputs": [
    {
     "name": "stdout",
     "output_type": "stream",
     "text": [
      "[13, 0, 3, 0, 1, 0, 1, 0, 1, 0, 1, 0, 1, 0]\n"
     ]
    }
   ],
   "source": [
    "def z_func(s):\n",
    "    # Ініціалізуємо масив Z, в якому будемо зберігати значення Z-функції\n",
    "    Z = [len(s)] + [0] * len(s) # Встановлюємо довжину рядка s у першому елементі масиву Z, а решту заповнюємо нулями\n",
    "    if len(s) <= 1:\n",
    "        return [len(s)] + [0] * len(s)\n",
    "\n",
    "    # Початкова порівняння s[1:] з префіксом\n",
    "    match = 0\n",
    "    for i in range(1, len(s)):\n",
    "        if s[i] == s[i - 1]:\n",
    "            match += 1\n",
    "        else:\n",
    "            break\n",
    "    Z[1] = match\n",
    "\n",
    "    # Встановлюємо значення змінних r і l\n",
    "    r, l = 0, 0\n",
    "    if Z[1] > 0:\n",
    "        r, l = Z[1], 1\n",
    "\n",
    "    # Обчислення Z-функції для кожного k від 2 до довжини рядка s\n",
    "    for k in range(2, len(s)):\n",
    "        if k > r:\n",
    "            # Випадок 1: k за межами поточного діапазону [l, r]\n",
    "            match = 0\n",
    "            for i in range(k, len(s)):\n",
    "                if s[i] == s[i - k]:\n",
    "                    match += 1\n",
    "                else:\n",
    "                    break\n",
    "            Z[k] = match\n",
    "            r, l = k + Z[k] - 1, k\n",
    "        else:\n",
    "            # Випадок 2: k знаходиться всередині поточного діапазону [l, r]\n",
    "            # Обчислюємо довжину бета (nbeta) та значення Z-функції на попередньому кроці (Zkp)\n",
    "            nbeta = r - k + 1\n",
    "            Zkp = Z[k - l]\n",
    "            if nbeta > Zkp:\n",
    "                # Підвипадок 2а: Zkp виграє\n",
    "                Z[k] = Zkp\n",
    "            else:\n",
    "                # Підвипадок 2б: Порівнюємо символи, що знаходяться безпосередньо після r\n",
    "                nmatch = 0\n",
    "                for i in range(r + 1, len(s)):\n",
    "                    if s[i] == s[i - k]:\n",
    "                        nmatch += 1\n",
    "                    else:\n",
    "                        break\n",
    "                l, r = k, r + nmatch\n",
    "                Z[k] = r - k + 1\n",
    "    return Z\n",
    "\n",
    "print(z_func('абабагаламага'))"
   ]
  },
  {
   "cell_type": "markdown",
   "id": "4066d170-d6d6-419e-add0-e7b1b23fbb04",
   "metadata": {},
   "source": [
    "### 1.3 Пошук підрядка в рядку."
   ]
  },
  {
   "cell_type": "code",
   "execution_count": 19,
   "id": "80ba9d45-4208-4398-9929-fa649d3a217a",
   "metadata": {},
   "outputs": [
    {
     "name": "stdout",
     "output_type": "stream",
     "text": [
      "[24, 0, 0, 0, 0, 2, 0, 0, 0, 0, 0, 0, 0, 0, 2, 0, 2, 0, 2, 0, 0, 0, 2, 0, 0]\n"
     ]
    }
   ],
   "source": [
    "def z_func(s):\n",
    "    \n",
    "    Z = [len(s)] + [0] * len(s)\n",
    "    if len(s) <= 1:\n",
    "        return [len(s)] + [0] * len(s)\n",
    "\n",
    "\n",
    "    match = 0\n",
    "    for i in range(1, len(s)):\n",
    "        if s[i] == s[i - 1]:\n",
    "            match += 1\n",
    "        else:\n",
    "            break\n",
    "    Z[1] = match\n",
    "\n",
    "    r, l = 0, 0\n",
    "    if Z[1] > 0:\n",
    "        r, l = Z[1], 1\n",
    "\n",
    "    for k in range(2, len(s)):\n",
    "        if k > r:\n",
    "            match = 0\n",
    "            for i in range(k, len(s)):\n",
    "                if s[i] == s[i - k]:\n",
    "                    match += 1\n",
    "                else:\n",
    "                    break\n",
    "            Z[k] = match\n",
    "            r, l = k + Z[k] - 1, k\n",
    "        else:\n",
    "           \n",
    "            nbeta = r - k + 1\n",
    "            Zkp = Z[k - l]\n",
    "            if nbeta > Zkp:\n",
    "                # Підвипадок 2а: Zkp виграє\n",
    "                Z[k] = Zkp\n",
    "            else:\n",
    "              \n",
    "                nmatch = 0\n",
    "                for i in range(r + 1, len(s)):\n",
    "                    if s[i] == s[i - k]:\n",
    "                        nmatch += 1\n",
    "                    else:\n",
    "                        break\n",
    "                l, r = k, r + nmatch\n",
    "                Z[k] = r - k + 1\n",
    "    return Z\n",
    "\n",
    "def zMatch(p, t):\n",
    "\n",
    "    s = p + \"$\" + t\n",
    "    Z = z_func(s)\n",
    "    occurrences = []\n",
    "\n",
    "    for i in range(len(p) + 1, len(s)):\n",
    "\n",
    "        if Z[i] == len(p):\n",
    "\n",
    "            occurrences.append(i - (len(p) + 1))\n",
    "\n",
    "\n",
    "    return occurrences\n",
    "\n",
    "t, p = \"абабагаламага\", \"ба\"\n",
    "calculated_z = z_func(\"ба$авбадлджавабабабагаба\")\n",
    "print(calculated_z)"
   ]
  },
  {
   "cell_type": "markdown",
   "id": "c8db13b0-8b8c-4ce2-af88-c0136a286d3d",
   "metadata": {},
   "source": [
    "### 1.4 Стиснення рядка."
   ]
  },
  {
   "cell_type": "code",
   "execution_count": 21,
   "id": "2ffffc8d-5e64-426e-88b1-555f56c967c7",
   "metadata": {},
   "outputs": [
    {
     "name": "stdout",
     "output_type": "stream",
     "text": [
      "Z-функція: [25, 0, 0, 0, 0, 1, 0, 0, 17, 0, 0, 0, 0, 1, 0, 0, 9, 0, 0, 0, 0, 1, 0, 0, 1, 0]\n",
      "Стиснутий рядок: абырвалгабырвалгабырвалга\n"
     ]
    }
   ],
   "source": [
    "def compress_with_z(s):\n",
    "    z_vec = z_func(s)\n",
    "    n = len(s)\n",
    "\n",
    "    for i in range(1, n):\n",
    "        if (i + z_vec[i] == n) and (n % i == 0):\n",
    "            return s[:i] \n",
    "    return s  \n",
    "\n",
    "s = \"абырвалгабырвалгабырвалга\"\n",
    "print(\"Z-функція:\", z_func(s))\n",
    "print(\"Стиснутий рядок:\", compress_with_z(s)) "
   ]
  },
  {
   "cell_type": "markdown",
   "id": "4ce6f1c3-9145-410c-b293-c42ba525d53c",
   "metadata": {},
   "source": [
    "## 2. Пояснити асимптотику наївного алгоритму пошуку підрядка"
   ]
  },
  {
   "cell_type": "markdown",
   "id": "6fa3d809-ca47-4b8f-a5f5-391c3d4da4b9",
   "metadata": {},
   "source": [
    "У найгіршому випадку кожен символ тексту - t буде порівнюватися з кожним символом шаблону p. \n",
    "Для тексту довжиною n і шаблону довжиною m, алгоритм має складність:\n",
    "O(n⋅m)\n",
    "Цей найгірший випадок виникає, коли перші символи p часто збігаються з частинами t, але решта символів не збігається."
   ]
  },
  {
   "cell_type": "markdown",
   "id": "0c6eab1f-ad1b-4580-ac70-97558c3a96bc",
   "metadata": {},
   "source": [
    "## 3. Обчислити асимптотичну складність алгоритму стиснення рядка за допомогою 𝑧-функції"
   ]
  },
  {
   "cell_type": "markdown",
   "id": "4a3bff84-97f2-4702-b547-43481b861db5",
   "metadata": {},
   "source": [
    "Цей процес складається з фактично двух дій, перша це обчислення самої z-функції , а другий саме стиснення.Для z-функції складність O(n) (n-довжина рядка).Для стиснення також маємо складність O(n)(ми проходимо по масиву для виявлення повторюваних префіксів).Отже складність алгоритму стиснення за допомогою z-функції = O(n)+O(n) = O(n)."
   ]
  },
  {
   "cell_type": "markdown",
   "id": "272a587a-3be9-4377-a4dc-3e5a264de4b2",
   "metadata": {},
   "source": [
    "## Контрольні питання"
   ]
  },
  {
   "cell_type": "markdown",
   "id": "e03e8459-31df-447d-9b8e-35faca562a29",
   "metadata": {},
   "source": [
    "- Що таке «префікс-функція» у контексті алгоритмів на рядках, і як вона відрізняється від Z-функції?\n",
    "**Префікс-функція показує довжину найбільшого префікса, що є суфіксом підрядка. Z-функція визначає довжину префікса, який збігається з початковою частиною рядка.**\n",
    "\n",
    "- Що таке Z-функція у вищому контексті алгоритмів на рядках, і яка її роль у вирішенні задач?\n",
    "**Z-функція – це масив, що оцінює збіги з початковим префіксом рядка. Використовується для пошуку підрядків, обчислення унікальних підрядків і стискання рядків.**\n",
    "\n",
    "- Які існують підходи до вирішення задачі «найдовший спільний підрядок» для двох рядків?\n",
    "**Динамічне програмування, Суфіксні дерева, Бінарний пошук із хешуванням.**\n",
    "\n",
    "- Як можна застосувати алгоритми на рядках у задачах обробки природної мови або обробки текстів?\n",
    "**Для пошуку шаблонів, аналізу частот, стиснення тексту, створення індексів і виявлення плагіату.**\n",
    "  "
   ]
  }
 ],
 "metadata": {
  "kernelspec": {
   "display_name": "Python [conda env:base] *",
   "language": "python",
   "name": "conda-base-py"
  },
  "language_info": {
   "codemirror_mode": {
    "name": "ipython",
    "version": 3
   },
   "file_extension": ".py",
   "mimetype": "text/x-python",
   "name": "python",
   "nbconvert_exporter": "python",
   "pygments_lexer": "ipython3",
   "version": "3.12.7"
  }
 },
 "nbformat": 4,
 "nbformat_minor": 5
}
